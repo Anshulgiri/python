{
 "cells": [
  {
   "cell_type": "code",
   "execution_count": 2,
   "id": "2aa31e4b-358a-4abd-88c3-adb8d5ad0d8b",
   "metadata": {},
   "outputs": [
    {
     "name": "stdout",
     "output_type": "stream",
     "text": [
      "1 2 3 4 5 6 7 8 9 10 "
     ]
    }
   ],
   "source": [
    "for i in range(1,11):\n",
    "    print(i,end=' ' )"
   ]
  },
  {
   "cell_type": "code",
   "execution_count": 3,
   "id": "b39cd5c7-1ee6-4744-a2ad-43235e8f47a5",
   "metadata": {},
   "outputs": [],
   "source": [
    "# For loop = For loop excicutes N number of steps perform in single line \n",
    "# While loop = While loop excicutes n number of steps in more than one line.\n"
   ]
  },
  {
   "cell_type": "code",
   "execution_count": null,
   "id": "c083231c-7de6-4162-bdd5-19bcdd281f99",
   "metadata": {},
   "outputs": [],
   "source": [
    "num = int(input(\"enter the number\"))\n",
    "sum = 0\n",
    "for i in range ( 1, num+1 ):\n",
    "    sum=sum+i\n",
    "    i = i+1\n",
    "print ( \"sum = \", sum)    "
   ]
  },
  {
   "cell_type": "code",
   "execution_count": 7,
   "id": "f28a2082-87d6-4bec-b3c4-0828b83a3f53",
   "metadata": {},
   "outputs": [
    {
     "name": "stdout",
     "output_type": "stream",
     "text": [
      "Anshul\n",
      "Mohit\n",
      "Giri\n"
     ]
    }
   ],
   "source": [
    "mylist = [\"Anshul\" , \"Mohit\" , \"Giri\"]\n",
    "for v in mylist:\n",
    "    print(v)"
   ]
  },
  {
   "cell_type": "code",
   "execution_count": 8,
   "id": "0b8e1de0-a663-4f6f-a6c9-94bb28f638c9",
   "metadata": {},
   "outputs": [
    {
     "name": "stdout",
     "output_type": "stream",
     "text": [
      "1152\n"
     ]
    }
   ],
   "source": [
    "list = [1,3,4,6,8,2]\n",
    "list_of_products = 1\n",
    "for i in list:\n",
    "    list_of_products*= i\n",
    "print(list_of_products)    "
   ]
  },
  {
   "cell_type": "code",
   "execution_count": 9,
   "id": "ba9dac37-d18f-4b3d-adfd-863e98bc3a60",
   "metadata": {},
   "outputs": [
    {
     "name": "stdout",
     "output_type": "stream",
     "text": [
      "0\n",
      "2\n",
      "4\n",
      "6\n",
      "8\n",
      "10\n",
      "12\n",
      "14\n",
      "16\n",
      "18\n"
     ]
    }
   ],
   "source": [
    "for x in range (0,20):\n",
    "    if x%2==0:\n",
    "        print(x)"
   ]
  },
  {
   "cell_type": "code",
   "execution_count": 10,
   "id": "43aada9f-ee03-4b05-80ac-2d58d8affc78",
   "metadata": {},
   "outputs": [
    {
     "name": "stdin",
     "output_type": "stream",
     "text": [
      "enter a number : 5\n"
     ]
    },
    {
     "name": "stdout",
     "output_type": "stream",
     "text": [
      "factorial of 5 is 120\n"
     ]
    }
   ],
   "source": [
    "num = int(input(\"enter a number :\"))\n",
    "fact=1 \n",
    "for i in range(1, num+1):\n",
    "    fact=fact*i\n",
    "print(\"factorial of\",num, \"is\",fact)    \n",
    "          "
   ]
  },
  {
   "cell_type": "code",
   "execution_count": 11,
   "id": "ee2742d1-713b-44b9-bf4f-5704648f5a9f",
   "metadata": {},
   "outputs": [
    {
     "name": "stdout",
     "output_type": "stream",
     "text": [
      "A\n",
      "n\n",
      "s\n",
      "h\n",
      "u\n",
      "l\n"
     ]
    }
   ],
   "source": [
    "x = \"Anshul\"\n",
    "for ch in x:\n",
    "    print(ch)"
   ]
  },
  {
   "cell_type": "code",
   "execution_count": 13,
   "id": "60935cd7-822d-4efe-92f9-acdb0260045a",
   "metadata": {},
   "outputs": [
    {
     "name": "stdout",
     "output_type": "stream",
     "text": [
      "7\n"
     ]
    }
   ],
   "source": [
    "def max_num_in_list(list):\n",
    "    max = list[0]\n",
    "    for a in list:\n",
    "        if a > max:\n",
    "            max = a\n",
    "    return max\n",
    "print(max_num_in_list([1,4,7,3]))"
   ]
  },
  {
   "cell_type": "code",
   "execution_count": 15,
   "id": "0cc7b4cd-f063-4363-8d87-654485987063",
   "metadata": {},
   "outputs": [
    {
     "name": "stdout",
     "output_type": "stream",
     "text": [
      "0\n",
      "1\n"
     ]
    },
    {
     "name": "stdin",
     "output_type": "stream",
     "text": [
      "upto which element 5\n"
     ]
    },
    {
     "name": "stdout",
     "output_type": "stream",
     "text": [
      "1\n",
      "2\n",
      "3\n",
      "5\n"
     ]
    }
   ],
   "source": [
    "first = 0\n",
    "second = 1\n",
    "print(first)\n",
    "print(second)\n",
    "N = int(input(\"upto which element\"))\n",
    "for a in range(1,N):\n",
    "    third = first+second\n",
    "    print(third)\n",
    "    first,second = second,third"
   ]
  },
  {
   "cell_type": "code",
   "execution_count": 21,
   "id": "b58142c6-f9f1-4ff8-a004-fcc488a552b9",
   "metadata": {},
   "outputs": [
    {
     "name": "stdin",
     "output_type": "stream",
     "text": [
      "enter a string anshul\n"
     ]
    },
    {
     "name": "stdout",
     "output_type": "stream",
     "text": [
      "No of vowels are: 2\n"
     ]
    }
   ],
   "source": [
    "string = str(input(\"enter a string\"))\n",
    "vowels = 0\n",
    "for i in string:\n",
    "    if(i=='a' or i=='e' or i=='i' or i=='o' or i=='u'):\n",
    "        vowels = vowels+1\n",
    "print(\"No of vowels are:\",vowels)      \n"
   ]
  },
  {
   "cell_type": "code",
   "execution_count": 24,
   "id": "c3a5d3ab-8f57-44a6-b14b-dbefaa564ff2",
   "metadata": {},
   "outputs": [
    {
     "name": "stdin",
     "output_type": "stream",
     "text": [
      "enter an integer:  5\n"
     ]
    },
    {
     "name": "stdout",
     "output_type": "stream",
     "text": [
      "5 * 1 = 5\n",
      "5 * 2 = 10\n",
      "5 * 3 = 15\n",
      "5 * 4 = 20\n",
      "5 * 5 = 25\n",
      "5 * 6 = 30\n",
      "5 * 7 = 35\n",
      "5 * 8 = 40\n",
      "5 * 9 = 45\n",
      "5 * 10 = 50\n"
     ]
    }
   ],
   "source": [
    "number = int(input(\"enter an integer: \"))\n",
    "for count in range(1,11):\n",
    "    product = number * count\n",
    "    print(number, \"*\" , count, \"=\", product)"
   ]
  },
  {
   "cell_type": "code",
   "execution_count": 26,
   "id": "33a9f74a-a8e7-4aad-bf05-153aafbcfd30",
   "metadata": {},
   "outputs": [
    {
     "name": "stdout",
     "output_type": "stream",
     "text": [
      "['xyz', 20, 'abc', 10]\n"
     ]
    }
   ],
   "source": [
    "mylist = [10, \"abc\", 20 , \"xyz\"]\n",
    "newlist = []\n",
    "for i in range(1,len(mylist)+1):\n",
    "    \n",
    "    newlist.append(mylist[-i])\n",
    "print(newlist)               \n",
    "               "
   ]
  },
  {
   "cell_type": "code",
   "execution_count": 27,
   "id": "3047d1e5-39eb-4ca9-ba1b-078cb2cc6e95",
   "metadata": {},
   "outputs": [
    {
     "name": "stdout",
     "output_type": "stream",
     "text": [
      "common element is: 4\n",
      "common element is: 5\n",
      "common element is: 6\n"
     ]
    }
   ],
   "source": [
    "list1 = [1,2,3,4,5,6]\n",
    "list2 = [4,5,6,7,8,9]\n",
    "for x in list1:\n",
    "    for y in list2:\n",
    "        if x==y:\n",
    "            print(\"common element is:\",x)"
   ]
  },
  {
   "cell_type": "code",
   "execution_count": 29,
   "id": "a17ba12a-10f2-4bf7-9a97-981144be1453",
   "metadata": {},
   "outputs": [
    {
     "name": "stdout",
     "output_type": "stream",
     "text": [
      "Name Anshul Giri \n",
      "Year 2021\n",
      "Type Education\n"
     ]
    }
   ],
   "source": [
    "dict = {\"Name\": \"Anshul Giri \",\"Year\": 2021 , \"Type\":\"Education\"}\n",
    "for i in dict:\n",
    "    print (i,dict[i])"
   ]
  },
  {
   "cell_type": "code",
   "execution_count": 30,
   "id": "8d4d0795-0678-4d68-8a91-626a41883418",
   "metadata": {},
   "outputs": [
    {
     "name": "stdin",
     "output_type": "stream",
     "text": [
      "enter a string: anam\n"
     ]
    },
    {
     "name": "stdout",
     "output_type": "stream",
     "text": [
      "anam is not a palindrome\n"
     ]
    }
   ],
   "source": [
    "n=input(\"enter a string:\")\n",
    "if n == n[::-1]:\n",
    "    print(n+ \"is a palindrome\")\n",
    "else:\n",
    "    print(n+ \" is not a palindrome\")"
   ]
  },
  {
   "cell_type": "code",
   "execution_count": 31,
   "id": "cd403f32-ac01-4da5-8be8-ffd1493cb3ec",
   "metadata": {},
   "outputs": [
    {
     "name": "stdin",
     "output_type": "stream",
     "text": [
      "enter a string My name is Anshul Giri\n"
     ]
    },
    {
     "name": "stdout",
     "output_type": "stream",
     "text": [
      "total words: 5\n"
     ]
    }
   ],
   "source": [
    "n = input(\"enter a string\")\n",
    "count = 0\n",
    "for words in n.split():\n",
    "    count+=1\n",
    "print(\"total words:\",count)    "
   ]
  },
  {
   "cell_type": "code",
   "execution_count": 33,
   "id": "23d5dae2-e25b-4c9e-8481-d3beff6f8c9c",
   "metadata": {},
   "outputs": [
    {
     "name": "stdout",
     "output_type": "stream",
     "text": [
      "sum of all odd numbers =  625\n"
     ]
    }
   ],
   "source": [
    "n = 50\n",
    "sum = 0\n",
    "for i in range(1,n):\n",
    "    \n",
    "    if i%2 != 0:\n",
    "        sum = sum+ i\n",
    "print(\"sum of all odd numbers = \",sum)        "
   ]
  },
  {
   "cell_type": "code",
   "execution_count": 34,
   "id": "fc5e7484-5be6-4eed-97a4-25380a04e139",
   "metadata": {},
   "outputs": [
    {
     "name": "stdin",
     "output_type": "stream",
     "text": [
      "enter the year: 2024\n"
     ]
    },
    {
     "name": "stdout",
     "output_type": "stream",
     "text": [
      "2024  is a leap year\n"
     ]
    }
   ],
   "source": [
    "year = int(input(\"enter the year:\"))\n",
    "if (year%4)==0:\n",
    "    if (year%100)==0:\n",
    "        if (year%400)==0:\n",
    "            print(year,\"is a leap year\")\n",
    "        else:\n",
    "            print(year,\"is not a leap year\")\n",
    "    else:\n",
    "        print(year, \" is a leap year\")\n",
    "else:\n",
    "    print(year, \"is not a leap year\")\n",
    "        "
   ]
  },
  {
   "cell_type": "code",
   "execution_count": 35,
   "id": "1ae64dc4-55b5-42e7-8eed-465e5a669e3e",
   "metadata": {},
   "outputs": [
    {
     "name": "stdin",
     "output_type": "stream",
     "text": [
      "enter the number 5\n"
     ]
    },
    {
     "name": "stdout",
     "output_type": "stream",
     "text": [
      "square root  2.23606797749979\n"
     ]
    }
   ],
   "source": [
    "a = float(input(\"enter the number\"))\n",
    "b = a**(1/2)\n",
    "print(\"square root \", b)"
   ]
  },
  {
   "cell_type": "code",
   "execution_count": 39,
   "id": "b781aff3-ac45-4882-bb2c-bcfa7fab98b6",
   "metadata": {},
   "outputs": [
    {
     "name": "stdin",
     "output_type": "stream",
     "text": [
      "enter the first number 6\n",
      "enter the second number 12\n"
     ]
    },
    {
     "name": "stdout",
     "output_type": "stream",
     "text": [
      "LCM of 6 and 12 is 12\n",
      "None\n"
     ]
    }
   ],
   "source": [
    "def compute_LCM (n1,n2):\n",
    "    if n1>n2:\n",
    "        higher = n1\n",
    "    else  :\n",
    "        higher = n2\n",
    "    value = higher\n",
    "    if higher%n1 == 0 and higher%n2 == 0:\n",
    "        print(\"LCM of\" , n1, \"and\", n2 , \"is\",higher)\n",
    "    else:\n",
    "        higher = higher + value\n",
    "n1 = int(input(\"enter the first number\"))\n",
    "n2 = int(input(\"enter the second number\"))\n",
    "print(compute_LCM(n1,n2))        "
   ]
  },
  {
   "cell_type": "code",
   "execution_count": 41,
   "id": "c43035ab-f178-4392-8edc-033781bb57c6",
   "metadata": {},
   "outputs": [
    {
     "name": "stdin",
     "output_type": "stream",
     "text": [
      "enter number 5\n"
     ]
    },
    {
     "name": "stdout",
     "output_type": "stream",
     "text": [
      "positive number\n"
     ]
    }
   ],
   "source": [
    "num = float(input(\"enter number\"))\n",
    "if num>0:\n",
    "    print(\"positive number\")\n",
    "else:\n",
    "    print(\"negative number\")"
   ]
  },
  {
   "cell_type": "code",
   "execution_count": 42,
   "id": "fa03ef0e-f9f5-4848-b854-26a94c0cafe6",
   "metadata": {},
   "outputs": [
    {
     "name": "stdin",
     "output_type": "stream",
     "text": [
      "enter a number 7\n"
     ]
    },
    {
     "name": "stdout",
     "output_type": "stream",
     "text": [
      "7 is a odd number\n"
     ]
    }
   ],
   "source": [
    "number = int(input(\"enter a number\"))\n",
    "if number % 2 ==0:\n",
    "    print(number , \"is a even number\")\n",
    "else:\n",
    "    print(number, \"is a odd number\")"
   ]
  },
  {
   "cell_type": "code",
   "execution_count": 43,
   "id": "f846d090-1a74-4f7c-9ede-1a1cfedb2a92",
   "metadata": {},
   "outputs": [
    {
     "name": "stdin",
     "output_type": "stream",
     "text": [
      "enter thr marks 65\n"
     ]
    },
    {
     "name": "stdout",
     "output_type": "stream",
     "text": [
      "Grade C\n"
     ]
    }
   ],
   "source": [
    "n = int(input(\"enter thr marks\"))\n",
    "if n> 85:\n",
    "    print(\"grade A\")\n",
    "elif n > 70:\n",
    "    print(\"Grade B\")\n",
    "elif n > 55:\n",
    "    print(\"Grade C\")\n",
    "elif n > 40:\n",
    "    print( \"Grade D\")\n",
    "else:\n",
    "    print(\"Fail\")\n",
    "    \n",
    "    "
   ]
  },
  {
   "cell_type": "code",
   "execution_count": 1,
   "id": "b15a430a-d9eb-4a18-8b06-d69aa86b7727",
   "metadata": {},
   "outputs": [
    {
     "name": "stdin",
     "output_type": "stream",
     "text": [
      "A 5\n",
      "B 8\n",
      "C 3\n"
     ]
    },
    {
     "name": "stdout",
     "output_type": "stream",
     "text": [
      "B is greater\n"
     ]
    }
   ],
   "source": [
    "A = int(input(\"A\"))\n",
    "B = int(input(\"B\"))\n",
    "C = int(input(\"C\"))\n",
    "if A > B and A > C :\n",
    "    print(\"A is greater\")\n",
    "elif B > C and B > C :  \n",
    "    print(\"B is greater\")\n",
    "else:\n",
    "    print(\"C is greater\")\n",
    "        "
   ]
  },
  {
   "cell_type": "code",
   "execution_count": 2,
   "id": "4e3918f6-5631-40ab-9772-1fe6eb541eaa",
   "metadata": {},
   "outputs": [
    {
     "name": "stdin",
     "output_type": "stream",
     "text": [
      "enter the number -5\n"
     ]
    },
    {
     "name": "stdout",
     "output_type": "stream",
     "text": [
      "| -5 | = 5\n"
     ]
    }
   ],
   "source": [
    "num = int(input(\"enter the number\"))\n",
    "if num < 0 :\n",
    "    num = -num\n",
    "    print(\"|\" , -num  , \"|\" , \"=\" , num)\n",
    "else:\n",
    "    (\"|\" , num , \"|\" , \"=\" , num)"
   ]
  },
  {
   "cell_type": "code",
   "execution_count": 3,
   "id": "2bd96434-6cef-475a-9c93-806aa05922d2",
   "metadata": {},
   "outputs": [
    {
     "name": "stdin",
     "output_type": "stream",
     "text": [
      "enter a charecter h\n"
     ]
    },
    {
     "name": "stdout",
     "output_type": "stream",
     "text": [
      "h  is a consonent\n"
     ]
    }
   ],
   "source": [
    "ch = input(\"enter a charecter\")\n",
    "if ch in \"aeiou\":\n",
    "    print(ch, \" is a vowel\")\n",
    "else:\n",
    "    print(ch , \" is a consonent\")"
   ]
  },
  {
   "cell_type": "code",
   "execution_count": 1,
   "id": "9b9f08be-795d-44b9-8774-c00a9f39e3e3",
   "metadata": {},
   "outputs": [
    {
     "name": "stdin",
     "output_type": "stream",
     "text": [
      "enter your age 20\n"
     ]
    },
    {
     "name": "stdout",
     "output_type": "stream",
     "text": [
      "yes you are eligible\n"
     ]
    }
   ],
   "source": [
    "\n",
    "a = int(input(\"enter your age\"))\n",
    "if a > 18:\n",
    "    print(\"yes you are eligible\")\n",
    "else:\n",
    "    print(\"no you are not eligible\")"
   ]
  },
  {
   "cell_type": "code",
   "execution_count": 8,
   "id": "a0b47a0a-0c3a-4bfa-b4ec-1ddb352aa527",
   "metadata": {},
   "outputs": [
    {
     "name": "stdin",
     "output_type": "stream",
     "text": [
      "enter starting range 1\n",
      "enter ending range 9\n",
      "enter a number  5\n"
     ]
    },
    {
     "name": "stdout",
     "output_type": "stream",
     "text": [
      "number is in the range\n"
     ]
    }
   ],
   "source": [
    "start = int(input(\"enter starting range\"))\n",
    "end = int(input(\"enter ending range\"))\n",
    "number = int(input(\"enter a number \"))\n",
    "if start <= number <= end :\n",
    "    print(\"number is in the range\")\n",
    "else:\n",
    "    print(\"number is not within the range\")"
   ]
  },
  {
   "cell_type": "code",
   "execution_count": 9,
   "id": "49748158-bb28-488d-8492-e1db04bb9bcc",
   "metadata": {},
   "outputs": [
    {
     "name": "stdout",
     "output_type": "stream",
     "text": [
      "x is not empty string\n"
     ]
    }
   ],
   "source": [
    "x = \" apple\" \n",
    "if not x:\n",
    "    print(\"x is empty string\")\n",
    "else:\n",
    "    print(\"x is not empty string\")"
   ]
  },
  {
   "cell_type": "code",
   "execution_count": 10,
   "id": "d7b7edec-cf17-47ed-94ae-aac1862f66f6",
   "metadata": {},
   "outputs": [
    {
     "name": "stdin",
     "output_type": "stream",
     "text": [
      "enter a single character t\n"
     ]
    },
    {
     "name": "stdout",
     "output_type": "stream",
     "text": [
      " you entered a lowercase character\n"
     ]
    }
   ],
   "source": [
    "ch = input(\"enter a single character\")\n",
    "if ch >= 'A' and ch <= 'Z':\n",
    "    print(\"you entered an uppercase character\")\n",
    "elif ch>= 'a' and ch <= 'z':\n",
    "    print(\" you entered a lowercase character\")\n",
    "elif ch>= '0' and ch<='9':\n",
    "    print(\"you entered a digit\")\n",
    "else:\n",
    "    print(\"you entered a special character\")"
   ]
  },
  {
   "cell_type": "code",
   "execution_count": 14,
   "id": "0912bc2d-936d-4a66-8dd9-ddc92e0f6e5d",
   "metadata": {},
   "outputs": [
    {
     "name": "stdin",
     "output_type": "stream",
     "text": [
      "enter a  5\n",
      "enter b 8\n",
      "enter c 3\n"
     ]
    },
    {
     "name": "stdout",
     "output_type": "stream",
     "text": [
      "roots are unequal and distinct\n",
      "root1 and root2 are  -0.6 and -1.0\n"
     ]
    }
   ],
   "source": [
    "import math \n",
    "a = int(input(\"enter a \"))\n",
    "b = int(input(\"enter b\"))\n",
    "c = int(input(\"enter c\"))\n",
    "d = b*b-4*a*c \n",
    "if d ==0:\n",
    "    root1 = -b/(2*a)\n",
    "    root2 = root1\n",
    "    print(\"roots are real and unequal\")\n",
    "    print(\"root1  and root2 are \", root1, \"and\", root2)\n",
    "elif d>0:\n",
    "    root1 = (-b+math.sqrt(d))/(2*a)\n",
    "    root2 = (-b-math.sqrt(d))/(2*a)\n",
    "    print(\"roots are unequal and distinct\") \n",
    "    print(\"root1 and root2 are \", root1, \"and\" , root2)\n",
    "else:\n",
    "    print(\"roots are complex and imaginary\")\n",
    "    \n",
    "             "
   ]
  },
  {
   "cell_type": "code",
   "execution_count": 15,
   "id": "e8e41cbf-3544-43ce-ab47-425e99c33dbf",
   "metadata": {},
   "outputs": [],
   "source": [
    "# Break = Break statement is used to terminate the loop .\n",
    "# Continue = Continue statement is used to continue the next iterations in the loop.\n"
   ]
  },
  {
   "cell_type": "code",
   "execution_count": 17,
   "id": "639a2bf9-d81c-43ec-b9b7-e704ed34d2aa",
   "metadata": {},
   "outputs": [
    {
     "name": "stdin",
     "output_type": "stream",
     "text": [
      "enter the height in cm 155\n",
      "enter the weighr in kg 52\n"
     ]
    },
    {
     "name": "stdout",
     "output_type": "stream",
     "text": [
      "your body mass index is  21.64412070759625\n",
      "Awesome! You are healthy\n"
     ]
    }
   ],
   "source": [
    "height= float(input(\"enter the height in cm\"))\n",
    "weight = float(input(\"enter the weighr in kg\"))\n",
    "BMI = weight / (height/100)**2\n",
    "print (\"your body mass index is \" , BMI)\n",
    "if BMI <= 18.5:\n",
    "    print(\"you are underweight\")\n",
    "elif BMI <= 24.9:\n",
    "    print(\"Awesome! You are healthy\")\n",
    "elif BMI <= 29.9:\n",
    "    print(\"you are over weight\")\n",
    "else:\n",
    "    print(\"you are obese\")"
   ]
  },
  {
   "cell_type": "code",
   "execution_count": 18,
   "id": "0577d20e-2e3c-4311-81a8-423831b10416",
   "metadata": {},
   "outputs": [
    {
     "name": "stdout",
     "output_type": "stream",
     "text": [
      "[11, 12, 14, 19, 25, True, 1]\n"
     ]
    }
   ],
   "source": [
    "def myfunc(x):\n",
    "    if x > 18:\n",
    "        return True\n",
    "    else :\n",
    "        return False\n",
    "age = [ 11 ,12,14,19,25,False,True,1,0]\n",
    "print(list(filter(None , age)))"
   ]
  },
  {
   "cell_type": "code",
   "execution_count": 19,
   "id": "e56c1dae-51d0-4f33-8e11-abb4b8b41d41",
   "metadata": {},
   "outputs": [
    {
     "name": "stdin",
     "output_type": "stream",
     "text": [
      "enter a number 6\n"
     ]
    },
    {
     "name": "stdout",
     "output_type": "stream",
     "text": [
      "6  is not a prime no.\n"
     ]
    }
   ],
   "source": [
    "n = int(input(\"enter a number\"))\n",
    "for x in range (2,n):\n",
    "    if n% x == 0:\n",
    "        break\n",
    "if x+1 == n:\n",
    "    print(n, \" is a prime no.\")\n",
    "else:\n",
    "    print(n , \" is not a prime no.\")"
   ]
  },
  {
   "cell_type": "code",
   "execution_count": 20,
   "id": "78cab1aa-2ef8-4fec-a51c-68a2f6fb09dd",
   "metadata": {},
   "outputs": [
    {
     "name": "stdout",
     "output_type": "stream",
     "text": [
      "[346, 34, 6, 8, 8, 34, 90, 66, 68, 46]\n"
     ]
    }
   ],
   "source": [
    "def make_even(num):\n",
    "    if num%2==1:\n",
    "        return num+1\n",
    "    else:\n",
    "        return num\n",
    "    \n",
    "x = [345 ,34,6,7,8,34,89,66,67,45]\n",
    "y = []\n",
    "for num in x :\n",
    "    y.append(make_even(num))\n",
    "print(y)"
   ]
  },
  {
   "cell_type": "code",
   "execution_count": 21,
   "id": "b0ec7ede-d224-465a-bbdc-86d4ae959337",
   "metadata": {},
   "outputs": [],
   "source": [
    "# Map = Map is a built in function that applies a specified function to all the items in an iterable.\n"
   ]
  },
  {
   "cell_type": "code",
   "execution_count": 22,
   "id": "dcab87ed-2ca3-4896-b167-488237cd6a7a",
   "metadata": {},
   "outputs": [
    {
     "name": "stdout",
     "output_type": "stream",
     "text": [
      "op [1, 4, 9, 16]\n"
     ]
    }
   ],
   "source": [
    "def square(n):\n",
    "    return n ** 2\n",
    "l = [1,2,3,4]\n",
    "sq_num = map(square , l)\n",
    "sq_num_l = list(sq_num)\n",
    "print(\"op\", sq_num_l)"
   ]
  },
  {
   "cell_type": "code",
   "execution_count": 23,
   "id": "2bc149b8-d329-4775-bcea-b8f4b2bc3ba0",
   "metadata": {},
   "outputs": [],
   "source": [
    "#List Comprehension = expression for variable in iterable"
   ]
  },
  {
   "cell_type": "code",
   "execution_count": 25,
   "id": "58e8cd88-e0d3-4ae8-a13f-1874c7b4fac2",
   "metadata": {},
   "outputs": [
    {
     "name": "stdout",
     "output_type": "stream",
     "text": [
      "[9, 36, 64, 144, 196, 225]\n"
     ]
    }
   ],
   "source": [
    "nums = [3,6,8,12,14,15]\n",
    "sq = [] \n",
    "for num in  nums:\n",
    "    sq.append(num*num)\n",
    "\n",
    "print([num*num for num in nums])\n",
    "    "
   ]
  },
  {
   "cell_type": "code",
   "execution_count": 32,
   "id": "d015761c-d9c2-4f80-9c72-42004f263ead",
   "metadata": {},
   "outputs": [
    {
     "name": "stdout",
     "output_type": "stream",
     "text": [
      "['ANSHUL', 'ABHINAV']\n"
     ]
    }
   ],
   "source": [
    "names = [\"anshul\", \"abhinav\"]\n",
    "uc = map(lambda x: x.upper(),names)\n",
    "print(list(uc))\n"
   ]
  },
  {
   "cell_type": "code",
   "execution_count": 33,
   "id": "8807a2af-21ec-4e83-9aa0-bc51535538fb",
   "metadata": {},
   "outputs": [],
   "source": [
    "#reduce = reduce is a function that takes a function and a list as arguments and returns a single value as a redult"
   ]
  },
  {
   "cell_type": "code",
   "execution_count": 37,
   "id": "cbcf9fad-2df5-4df7-9342-bd7b30545a82",
   "metadata": {},
   "outputs": [
    {
     "name": "stdout",
     "output_type": "stream",
     "text": [
      "15\n"
     ]
    }
   ],
   "source": [
    "from functools import reduce\n",
    "def sum_list(items):\n",
    "    sum_numbers = 0\n",
    "    for x in items:\n",
    "        sum_numbers += x\n",
    "    return sum_numbers\n",
    "print(sum_list([1,2,3,4,5]))"
   ]
  },
  {
   "cell_type": "code",
   "execution_count": 46,
   "id": "156ddad4-598f-4b3b-910a-5f8d4d4980b1",
   "metadata": {},
   "outputs": [
    {
     "data": {
      "text/plain": [
       "24"
      ]
     },
     "execution_count": 46,
     "metadata": {},
     "output_type": "execute_result"
    }
   ],
   "source": [
    "from functools import reduce \n",
    "product_list = reduce((lambda x, y : x*y) , list1)\n",
    "product_list"
   ]
  },
  {
   "cell_type": "code",
   "execution_count": 45,
   "id": "bfa39453-7404-4b80-8626-4f57e0f05ebb",
   "metadata": {},
   "outputs": [],
   "source": [
    "list1 = [1,2,3,4]"
   ]
  },
  {
   "cell_type": "code",
   "execution_count": 47,
   "id": "53e9375e-36e7-40cc-8906-cc3227ffbe10",
   "metadata": {},
   "outputs": [
    {
     "name": "stdout",
     "output_type": "stream",
     "text": [
      "56\n"
     ]
    }
   ],
   "source": [
    "import functools \n",
    "a = [1,2,13,56,8,4]\n",
    "def findmax(a,b):\n",
    "    if a>b:\n",
    "        b=a\n",
    "    return b \n",
    "x=functools.reduce(findmax,a,a[0])\n",
    "print(x)"
   ]
  },
  {
   "cell_type": "code",
   "execution_count": 48,
   "id": "de7d2b2a-cf16-4f50-b4a6-d9923fd5af67",
   "metadata": {},
   "outputs": [
    {
     "name": "stdout",
     "output_type": "stream",
     "text": [
      "120\n"
     ]
    }
   ],
   "source": [
    "import functools\n",
    "n= 5 \n",
    "print(functools.reduce(lambda x,y :x*y ,range(1,n+1)))"
   ]
  },
  {
   "cell_type": "code",
   "execution_count": 49,
   "id": "047d718e-7230-4840-ab09-2b3e27f443c3",
   "metadata": {},
   "outputs": [],
   "source": [
    "#filter function = python filter function provides filter elements.this function also takes another function and a sequence as perameters."
   ]
  },
  {
   "cell_type": "code",
   "execution_count": 50,
   "id": "d30c3a32-c265-428f-bf33-3ee8caaa431f",
   "metadata": {},
   "outputs": [
    {
     "name": "stdout",
     "output_type": "stream",
     "text": [
      "[2, 4]\n"
     ]
    }
   ],
   "source": [
    "my_list = [ 1,2,3,4,5]\n",
    "even_numbers = list(filter(lambda x: x%2 ==0 , my_list))\n",
    "print(even_numbers)"
   ]
  },
  {
   "cell_type": "code",
   "execution_count": 54,
   "id": "2b79677e-dc2b-4152-a870-cb8d9d7b7e27",
   "metadata": {},
   "outputs": [
    {
     "name": "stdout",
     "output_type": "stream",
     "text": [
      "[2, 3, 5, 6, 8]\n"
     ]
    },
    {
     "name": "stderr",
     "output_type": "stream",
     "text": [
      "/tmp/ipykernel_2095/951516884.py:3: DeprecationWarning: NotImplemented should not be used in a boolean context\n",
      "  list_of_values = list(not_none_values)\n"
     ]
    }
   ],
   "source": [
    "list_of_values = [ 2,3,5,None ,6,8,None]\n",
    "not_none_values = filter(None.__ne__,list_of_values)\n",
    "list_of_values = list(not_none_values)\n",
    "print(list_of_values)"
   ]
  },
  {
   "cell_type": "code",
   "execution_count": 55,
   "id": "caf58b21-990c-4592-b433-0abe6495e07d",
   "metadata": {},
   "outputs": [
    {
     "name": "stdout",
     "output_type": "stream",
     "text": [
      "[4, 5, 6, 9]\n"
     ]
    }
   ],
   "source": [
    "l=[1,2,3,4,5,6,9]\n",
    "print(list(filter(lambda x :x>3 ,l)))"
   ]
  },
  {
   "cell_type": "code",
   "execution_count": 62,
   "id": "39d73462-2524-4ee9-b4ef-fbf177a05b64",
   "metadata": {},
   "outputs": [
    {
     "name": "stdout",
     "output_type": "stream",
     "text": [
      "['anshul', 'abhinav']\n"
     ]
    }
   ],
   "source": [
    "\n",
    "list1 =  [\"anshul\", \"abhinav\", \"mohit\"]\n",
    "list2 = []\n",
    "for ele in list1:\n",
    "    if (len(ele)>5):\n",
    "        list2.append(ele)\n",
    "print(list2)        "
   ]
  },
  {
   "cell_type": "code",
   "execution_count": 63,
   "id": "d2d4e725-67db-42db-8ba9-db64a254b25f",
   "metadata": {},
   "outputs": [],
   "source": [
    "#recursion = function calls itself\n",
    "#iteration = set of instructions are repeatedly excicuted"
   ]
  },
  {
   "cell_type": "code",
   "execution_count": 64,
   "id": "f0468d4e-7153-4dea-ade4-372387642075",
   "metadata": {},
   "outputs": [
    {
     "name": "stdin",
     "output_type": "stream",
     "text": [
      "enter number 5\n"
     ]
    },
    {
     "name": "stdout",
     "output_type": "stream",
     "text": [
      "factorial is :  120\n"
     ]
    }
   ],
   "source": [
    "def fact(n):\n",
    "    if( n==0 or n==1):\n",
    "        return 1\n",
    "    else:\n",
    "        return n * fact (n-1)\n",
    "num = int(input(\"enter number\"))\n",
    "print(\"factorial is : \",fact(num))"
   ]
  },
  {
   "cell_type": "code",
   "execution_count": 4,
   "id": "0fb567bb-8a0b-4188-93b8-e71805c4e3a1",
   "metadata": {},
   "outputs": [
    {
     "name": "stdout",
     "output_type": "stream",
     "text": [
      "0\n",
      "1\n",
      "1\n",
      "2\n",
      "3\n"
     ]
    }
   ],
   "source": [
    "def fibonacci(x):\n",
    "    if x == 0:\n",
    "        return 0\n",
    "    elif x == 1:\n",
    "        return 1\n",
    "    else:\n",
    "        return fibonacci(x-2) + fibonacci(x-1)\n",
    "for x in range(5):\n",
    "    print(fibonacci(x))"
   ]
  },
  {
   "cell_type": "code",
   "execution_count": 2,
   "id": "b8f75097-174e-4b83-843e-9d5e9f15c309",
   "metadata": {},
   "outputs": [],
   "source": [
    "def sum_list(nums):\n",
    "    if len(nums) == 0 :\n",
    "        return 0\n",
    "    return nums[0] + sum_list(nums[1:])\n"
   ]
  },
  {
   "cell_type": "code",
   "execution_count": 9,
   "id": "94f076df-110d-4af5-8380-cd5742e416eb",
   "metadata": {},
   "outputs": [
    {
     "name": "stdout",
     "output_type": "stream",
     "text": [
      "luhsna"
     ]
    }
   ],
   "source": [
    "def reversel(str):\n",
    "    size = len (str)\n",
    "    if (size ==0):\n",
    "        return\n",
    "    last_char =str[size-1]\n",
    "    print(last_char,end = \"\")\n",
    "    reversel(str[0:size - 1])\n",
    "reversel(\"anshul\")    "
   ]
  },
  {
   "cell_type": "code",
   "execution_count": 10,
   "id": "fdb26ebb-2d71-42c4-bab3-1fe29d5e431f",
   "metadata": {},
   "outputs": [],
   "source": [
    "def power(powe, exponent):\n",
    "    if exponent==0:\n",
    "        return 1 \n",
    "    elif exponent >0:\n",
    "        return base* power(base , exponent-1)\n",
    "    else:\n",
    "        return 1/power(base, -exponent)"
   ]
  },
  {
   "cell_type": "code",
   "execution_count": null,
   "id": "8c4f2113-5517-4a3d-ad41-8357ac129f73",
   "metadata": {},
   "outputs": [],
   "source": []
  }
 ],
 "metadata": {
  "kernelspec": {
   "display_name": "Python 3 (ipykernel)",
   "language": "python",
   "name": "python3"
  },
  "language_info": {
   "codemirror_mode": {
    "name": "ipython",
    "version": 3
   },
   "file_extension": ".py",
   "mimetype": "text/x-python",
   "name": "python",
   "nbconvert_exporter": "python",
   "pygments_lexer": "ipython3",
   "version": "3.10.8"
  }
 },
 "nbformat": 4,
 "nbformat_minor": 5
}
